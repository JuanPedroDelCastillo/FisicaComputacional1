{
  "nbformat": 4,
  "nbformat_minor": 0,
  "metadata": {
    "colab": {
      "name": "Actividad2.ipynb",
      "provenance": [],
      "collapsed_sections": []
    },
    "kernelspec": {
      "name": "python3",
      "display_name": "Python 3"
    }
  },
  "cells": [
    {
      "cell_type": "markdown",
      "metadata": {
        "id": "QoemJAs5rxwP"
      },
      "source": [
        "# Actividad **2**\r\n"
      ]
    },
    {
      "cell_type": "markdown",
      "metadata": {
        "id": "h_S77BEjsPJd"
      },
      "source": [
        "Primero debemos **ejecutar la siguiente celda** para importar las bibliotecas utilizadas en los programas."
      ]
    },
    {
      "cell_type": "code",
      "metadata": {
        "id": "AiVTdceUqDoE"
      },
      "source": [
        "import numpy as np\r\n",
        "import cmath as cm\r\n",
        "import matplotlib.pyplot as plt"
      ],
      "execution_count": 44,
      "outputs": []
    },
    {
      "cell_type": "markdown",
      "metadata": {
        "id": "RGaNje3xK7xz"
      },
      "source": [
        "## *Ejemplos de control de flujo*"
      ]
    },
    {
      "cell_type": "markdown",
      "metadata": {
        "id": "Y7BkmyZKLeqg"
      },
      "source": [
        "Ejemplo del condicional \"if\", \"elif\" y \"else\":"
      ]
    },
    {
      "cell_type": "code",
      "metadata": {
        "colab": {
          "base_uri": "https://localhost:8080/"
        },
        "id": "w0aMu8moLfDd",
        "outputId": "d7baaee6-f386-4422-db2c-b7f622733a49"
      },
      "source": [
        "# Condicional: if \r\n",
        "\r\n",
        "x = 3\r\n",
        "y = 2\r\n",
        "z = 1\r\n",
        "\r\n",
        "if x == y:\r\n",
        "     print(\"Hola\")\r\n",
        "\r\n",
        "elif x == z:\r\n",
        "     print(\"Hasta luego\")\r\n",
        "\r\n",
        "else:\r\n",
        "     print(\"???\")"
      ],
      "execution_count": 40,
      "outputs": [
        {
          "output_type": "stream",
          "text": [
            "???\n"
          ],
          "name": "stdout"
        }
      ]
    },
    {
      "cell_type": "markdown",
      "metadata": {
        "id": "pGOw1QzbLtz2"
      },
      "source": [
        "Ejemplo del condicional \"for\":"
      ]
    },
    {
      "cell_type": "code",
      "metadata": {
        "colab": {
          "base_uri": "https://localhost:8080/"
        },
        "id": "pEdTcXBsLt9V",
        "outputId": "8da4b809-7c75-4090-a64b-3151e2b1a3c0"
      },
      "source": [
        "# Loop: for\r\n",
        "\r\n",
        "print(\"loop 1\")\r\n",
        "\r\n",
        "for i in range(5): # default - comienza en 0, incrementa en 1\r\n",
        "     print(i)\r\n",
        "\r\n",
        "print(\"\\nloop 2\")\r\n",
        "\r\n",
        "for i in range(10, 2, -2): # entradas: inicio, fin, tamaño de paso \r\n",
        "     print(i)"
      ],
      "execution_count": 41,
      "outputs": [
        {
          "output_type": "stream",
          "text": [
            "loop 1\n",
            "0\n",
            "1\n",
            "2\n",
            "3\n",
            "4\n",
            "\n",
            "loop 2\n",
            "10\n",
            "8\n",
            "6\n",
            "4\n"
          ],
          "name": "stdout"
        }
      ]
    },
    {
      "cell_type": "markdown",
      "metadata": {
        "id": "32-CI_WAMGX6"
      },
      "source": [
        "Ejemplo del condicional \"while\":"
      ]
    },
    {
      "cell_type": "code",
      "metadata": {
        "colab": {
          "base_uri": "https://localhost:8080/"
        },
        "id": "URt34CZXMGd5",
        "outputId": "8eaf5fdb-0ccc-4cea-80f2-48b5bd7f15df"
      },
      "source": [
        "# Loop: while\r\n",
        "\r\n",
        "i = 1\r\n",
        "\r\n",
        "while i < 100:\r\n",
        "     print(i**2)\r\n",
        "     i += i**2 # a += b es notación compacta de a = a + b"
      ],
      "execution_count": 42,
      "outputs": [
        {
          "output_type": "stream",
          "text": [
            "1\n",
            "4\n",
            "36\n",
            "1764\n"
          ],
          "name": "stdout"
        }
      ]
    },
    {
      "cell_type": "markdown",
      "metadata": {
        "id": "F89pNGBoMVmf"
      },
      "source": [
        "Ejemplo de \"continue\" y \"break\":"
      ]
    },
    {
      "cell_type": "code",
      "metadata": {
        "colab": {
          "base_uri": "https://localhost:8080/"
        },
        "id": "-EhZG7r5MXPC",
        "outputId": "c7aece8f-81f3-49dc-93c5-5379d723775e"
      },
      "source": [
        "for num in range(2, 10):\r\n",
        "     if num % 2 == 0:\r\n",
        "          continue # se regresa al inicio\r\n",
        "     print(f\"Encontrado {num}, un número impar\")\r\n",
        " \r\n",
        "n = 64\r\n",
        "\r\n",
        "for x in range(2, n):\r\n",
        "     if n % x == 0: # si n es divisible por x (modulo 0)\r\n",
        "          print(f'{n} igual {x} * {n // x}')\r\n",
        "          break\r\n",
        "\r\n",
        "for i in range(5):\r\n",
        "     for j in range(5*i):\r\n",
        "          if j == 10:\r\n",
        "               print(j)\r\n",
        "               break\r\n",
        "#break se va a esta línea\r\n",
        "\r\n",
        "if False:\r\n",
        "     pass # no hace nada, continua\r\n",
        "else:\r\n",
        "\r\n",
        "     print('True!')"
      ],
      "execution_count": 43,
      "outputs": [
        {
          "output_type": "stream",
          "text": [
            "Encontrado 3, un número impar\n",
            "Encontrado 5, un número impar\n",
            "Encontrado 7, un número impar\n",
            "Encontrado 9, un número impar\n",
            "64 igual 2 * 32\n",
            "10\n",
            "10\n",
            "True!\n"
          ],
          "name": "stdout"
        }
      ]
    },
    {
      "cell_type": "markdown",
      "metadata": {
        "id": "PbA-U3Y0ueER"
      },
      "source": [
        "## *Área de un Círculo*"
      ]
    },
    {
      "cell_type": "markdown",
      "metadata": {
        "id": "7XHCndcNtA7V"
      },
      "source": [
        "El siguiente programa sirve para calcular el **Área de un Círculo**. Para esto, el programa solicita el radio del círculo. Posteriormente se utiliza la fórmula para calcular el área del círculo:\r\n",
        "\r\n",
        "$$A=\\pi r^2$$"
      ]
    },
    {
      "cell_type": "code",
      "metadata": {
        "colab": {
          "base_uri": "https://localhost:8080/"
        },
        "id": "ytwbLKKGotf9",
        "outputId": "794e5a4b-430b-4379-ae51-5e45487c8d62"
      },
      "source": [
        "# Programa para calcular el Área de un Círculo.\r\n",
        "def AreaCirculo(r):\r\n",
        "    return np.pi*r**2\r\n",
        "\r\n",
        "print(\"Proporciona el radio del círculo: \", end=\"\\n\")\r\n",
        "r = float(input())\r\n",
        "A = AreaCirculo(r)\r\n",
        "# Imprime el valor del área en formato libre.\r\n",
        "print(\"\\nArea = \", A)\r\n",
        "# Imprime el valor del área con 2 decimales. \r\n",
        "print(\"\\nArea = {:.2f}\".format(A))"
      ],
      "execution_count": null,
      "outputs": [
        {
          "output_type": "stream",
          "text": [
            "Proporciona el radio del círculo: 3\n",
            "\n",
            "Area =  28.274333882308138\n",
            "\n",
            "Area = 28.27\n"
          ],
          "name": "stdout"
        }
      ]
    },
    {
      "cell_type": "markdown",
      "metadata": {
        "id": "DhLrHD10uu6R"
      },
      "source": [
        "## *Área de una Elipse*"
      ]
    },
    {
      "cell_type": "markdown",
      "metadata": {
        "id": "cIcm_cfuu7Zr"
      },
      "source": [
        "El siguiente programa sirve para calcular el Área de un Elipse. Para esto, el programa solicita las longitudes de los semiejes de la elipse. Posteriormente se utiliza la fórmula para calcular el área de la elipse:\r\n",
        "\r\n",
        "$$\\pi \\cdot a\\cdot b$$\r\n",
        "\r\n",
        "\r\n"
      ]
    },
    {
      "cell_type": "code",
      "metadata": {
        "colab": {
          "base_uri": "https://localhost:8080/"
        },
        "id": "Q7xpJ5lrwJ-p",
        "outputId": "4f64cd3a-1686-4ce0-c489-f82359c997a2"
      },
      "source": [
        "# Programa para calcular el Área de una Elipse.\r\n",
        "def AreaElipse(a, b):\r\n",
        "    return np.pi*a*b\r\n",
        "\r\n",
        "print(\"Proporciona los semiejes de la Elipse: \", end=\"\\n\")\r\n",
        "a = float(input())\r\n",
        "b = float(input())\r\n",
        "A = AreaElipse(a, b)\r\n",
        "# Imprime el valor del área en formato libre.\r\n",
        "print(\"\\nArea = \", A)\r\n",
        "# Imprime el valor del área con 2 decimales. \r\n",
        "print(\"\\nArea = {:.2f}\".format(A))"
      ],
      "execution_count": null,
      "outputs": [
        {
          "output_type": "stream",
          "text": [
            "Proporciona los semiejes de la Elipse: 4\n",
            "5\n",
            "\n",
            "Area =  62.83185307179586\n",
            "\n",
            "Area = 62.83\n"
          ],
          "name": "stdout"
        }
      ]
    },
    {
      "cell_type": "markdown",
      "metadata": {
        "id": "5qu1i4ZHgAK6"
      },
      "source": [
        "## *Volumen de una Esfera*"
      ]
    },
    {
      "cell_type": "markdown",
      "metadata": {
        "id": "apZrr2LEiHJ-"
      },
      "source": [
        "El siguiente programa sirve para calcular el Volumen de una Esfera. Para esto, el programa solicita el radio de la esfera. Posteriormente se utiliza la fórmula para calcular el volumen de la esfera:\r\n",
        "\r\n",
        "$$\\frac{4}{3} \\pi r^3$$\r\n",
        "\r\n",
        "\r\n"
      ]
    },
    {
      "cell_type": "code",
      "metadata": {
        "colab": {
          "base_uri": "https://localhost:8080/"
        },
        "id": "9xO2xGsngzDh",
        "outputId": "3c4a180f-29c4-45fd-f794-7b4beca35ef4"
      },
      "source": [
        "# Programa para calcular el Volumen de una Esfera.\r\n",
        "def VolEsfera(r):\r\n",
        "    return np.pi*(4/3)*r**3\r\n",
        "\r\n",
        "print(\"Proporciona el radio de la Esfera: \", end=\"\\n\")\r\n",
        "r = float(input())\r\n",
        "V = VolEsfera(r)\r\n",
        "# Imprime el valor del volumen en formato libre.\r\n",
        "print(\"\\nVolumen = \", V)\r\n",
        "# Imprime el valor del volumen con 2 decimales. \r\n",
        "print(\"\\nVolumen = {:.2f}\".format(V))"
      ],
      "execution_count": null,
      "outputs": [
        {
          "output_type": "stream",
          "text": [
            "Proporciona el radio de la Esfera: 5\n",
            "\n",
            "Volumen =  523.5987755982989\n",
            "\n",
            "Volumen = 523.60\n"
          ],
          "name": "stdout"
        }
      ]
    },
    {
      "cell_type": "markdown",
      "metadata": {
        "id": "_tksBq2Ii2WO"
      },
      "source": [
        "## *Volumen de un Cilindro Circular*"
      ]
    },
    {
      "cell_type": "markdown",
      "metadata": {
        "id": "9uFsIUWei2WP"
      },
      "source": [
        "El siguiente programa sirve para calcular el Volumen de un Cilindro Circular. Para esto, el programa solicita el radio de la base circular y la altura del cilindro. Posteriormente se utiliza la fórmula para calcular el volumen del cilindro circular:\r\n",
        "\r\n",
        "$$\\pi r^2 \\cdot h$$\r\n",
        "\r\n",
        "\r\n"
      ]
    },
    {
      "cell_type": "code",
      "metadata": {
        "colab": {
          "base_uri": "https://localhost:8080/"
        },
        "id": "uX8V7zmKi2WP",
        "outputId": "9f4a1949-a25f-4d88-e9c8-6de28c71b5e8"
      },
      "source": [
        "# Programa para calcular el Volumen de un cilindro circular.\r\n",
        "def VolCilindro(r, h):\r\n",
        "    return np.pi*h*r**2\r\n",
        "\r\n",
        "print(\"Proporciona el radio de la base circular y la altura del cilindro: \", end=\"\\n\")\r\n",
        "r = float(input())\r\n",
        "h = float(input())\r\n",
        "V = VolCilindro(r, h)\r\n",
        "# Imprime el valor del volumen en formato libre.\r\n",
        "print(\"\\nVolumen = \", V)\r\n",
        "# Imprime el valor del volumen con 2 decimales. \r\n",
        "print(\"\\nVolumen = {:.2f}\".format(V))"
      ],
      "execution_count": null,
      "outputs": [
        {
          "output_type": "stream",
          "text": [
            "Proporciona el radio de la base circular y la altura del cilindro: 5\n",
            "5\n",
            "\n",
            "Volumen =  392.6990816987241\n",
            "\n",
            "Volumen = 392.70\n"
          ],
          "name": "stdout"
        }
      ]
    },
    {
      "cell_type": "markdown",
      "metadata": {
        "id": "DRQqSov6vSUY"
      },
      "source": [
        "## *Raíces de una Ecuación Cuadrática*"
      ]
    },
    {
      "cell_type": "markdown",
      "metadata": {
        "id": "juqXyBpavSUY"
      },
      "source": [
        "El siguiente programa sirve para calcular las raíces de una ecuación cuadrática. Para esto, el programa solicita los coeficietes A, B y C de la ecuación con forma $Ax^2 + Bx + C=0$. Posteriormente se utiliza la fórmula general para calcular las raíces:\r\n",
        "\r\n",
        "$$x = \\frac{-B \\pm \\sqrt{B^2 - 4AC}}{2A}$$\r\n",
        "\r\n",
        "Para que se tomaran en cuenta las soluciones complejas, simplemente se agregó +0j en la raíz para que el argumento de esta sea de tipo complejo. Por temas de estética, se utilizó un if para mostrar las respuestas reales sin un +0j en caso de que no tengan parte imaginaria. \r\n",
        "\r\n",
        "\r\n"
      ]
    },
    {
      "cell_type": "code",
      "metadata": {
        "colab": {
          "base_uri": "https://localhost:8080/"
        },
        "id": "hZ3_AUNYvSUY",
        "outputId": "69ac86db-aa6b-47df-fe5a-079875a0db3b"
      },
      "source": [
        "# Programa para calcular las raíces de una ecuación cuadrática.\r\n",
        "def Raices(A, B, C):\r\n",
        "    x1= (-B+np.sqrt(B**2 -4*A*C + 0j))/(2*A)\r\n",
        "    x2= (-B-np.sqrt(B**2 -4*A*C + 0j))/(2*A)\r\n",
        "    return [x1,x2]\r\n",
        "\r\n",
        "print(\"Escriba los coeficientes A, B y C de la ecuación cuadrática y asegúrese de que tenga la forma Ax² + Bx + C = 0\", end=\"\\n\")\r\n",
        "A = float(input())\r\n",
        "B = float(input())\r\n",
        "C = float(input())\r\n",
        "x1 = Raices(A, B, C)[0]\r\n",
        "x2 = Raices(A, B, C)[1]\r\n",
        "\r\n",
        "if x1.imag == 0:\r\n",
        "    \r\n",
        "  # Imprime el valor de la Primera Raíz.\r\n",
        "  print(\"\\nX₁ = {:.4f}\" .format(x1.real))\r\n",
        "  # Imprime el valor de la Segunda Raíz. \r\n",
        "  print(\"\\nX₂ = {:.4f}\" .format(x2.real))\r\n",
        "\r\n",
        "else:\r\n",
        "  # Imprime el valor de la Primera Raíz.\r\n",
        "  print(\"\\nX₁ = {:.4f}\" .format(x1))\r\n",
        "  # Imprime el valor de la Segunda Raíz. \r\n",
        "  print(\"\\nX₂ = {:.4f}\" .format(x2))"
      ],
      "execution_count": null,
      "outputs": [
        {
          "output_type": "stream",
          "text": [
            "Escriba los coeficientes A, B y C de la ecuación cuadrática y asegúrese de que tenga la forma Ax² + Bx + C = 0\n",
            "1\n",
            "4\n",
            "4\n",
            "\n",
            "X₁ = -2.0000\n",
            "\n",
            "X₂ = -2.0000\n"
          ],
          "name": "stdout"
        }
      ]
    },
    {
      "cell_type": "markdown",
      "metadata": {
        "id": "9f5LzoySkzVS"
      },
      "source": [
        "## *Raíz de un Número S*"
      ]
    },
    {
      "cell_type": "markdown",
      "metadata": {
        "id": "WjXvRRP4kzVV"
      },
      "source": [
        "El siguiente programa sirve para calcular la raíz cuadrada de un número dado S. Para esto, el programa solicita el número S y se utiliza la ecuación del método de Babilonio:\r\n",
        "\r\n",
        "$$x_{n+1} = \\frac{1}{2}  \\left(x_n + \\frac{S}{x_n}\\right)$$\r\n",
        "\r\n",
        "Esta iteración es repetida hasta que el error absoluto es menor a 0.01. \r\n",
        "\r\n",
        "\r\n"
      ]
    },
    {
      "cell_type": "code",
      "metadata": {
        "colab": {
          "base_uri": "https://localhost:8080/"
        },
        "id": "iXuI8Fs2kzVV",
        "outputId": "3cc0aec7-57bd-4e09-8aef-13babc71f920"
      },
      "source": [
        "# Programa para calcular la raíz de un número S.\r\n",
        "\r\n",
        "S = float(input(\"Escriba el número al que quiere calcularle la raíz cuadrada: \"))\r\n",
        "x = float(input(\"Escriba un número aproximada a esta raíz: \"))\r\n",
        "\r\n",
        "E= abs(x - np.sqrt(S))\r\n",
        "\r\n",
        "while E>0.01:\r\n",
        "  x = (1/2)*(x+S/x)\r\n",
        "  E = abs(x - np.sqrt(S))\r\n",
        "\r\n",
        "print(\"La aproximación de la raíz cuadrada es: {:.3f}\" .format(x), \r\n",
        "      \"\\nCon un error de: {:.6f}\" .format(E))"
      ],
      "execution_count": null,
      "outputs": [
        {
          "output_type": "stream",
          "text": [
            "Escriba el número al que quiere calcularle la raíz cuadrada: 2\n",
            "Escriba un número aproximada a esta raíz: 1\n",
            "La aproximación de la raíz cuadrada es: 1.417 \n",
            "Con un error de: 0.002453\n"
          ],
          "name": "stdout"
        }
      ]
    },
    {
      "cell_type": "markdown",
      "metadata": {
        "id": "5sAQH1TI4cBe"
      },
      "source": [
        "## *Series de Taylor*"
      ]
    },
    {
      "cell_type": "markdown",
      "metadata": {
        "id": "5DB4KRnF4cBe"
      },
      "source": [
        "El siguiente programa sirve para graficar los polinomios de Taylor de grados dados por el usuraio de la siguiente función:\r\n",
        "\r\n",
        "$$\\ln{(1+x)} = \r\n",
        "\\sum_{n=1}^{\\infty}(-1)^{n+1} \\frac{x^{n}}{n} \r\n",
        "$$\r\n",
        "\r\n",
        "Para esto se crea la función polinomio de taylor de la función, la cual consiste en iterar la suma de dicha sumatoria para cada x desde -1.5 hasta 1.5. Posteriormente se usan las herramientas para graficar estas listas. \r\n",
        "\r\n",
        "\r\n"
      ]
    },
    {
      "cell_type": "code",
      "metadata": {
        "colab": {
          "base_uri": "https://localhost:8080/",
          "height": 339
        },
        "id": "CUlvthyH4cBe",
        "outputId": "f2a11f51-590f-428a-9a7a-e2d3c7892b1d"
      },
      "source": [
        "#Este programa grafica los polinomios de Taylor de cuatro grados dados por el usuario de la función ln(x+1).\r\n",
        "def TLog(n):\r\n",
        "  x = np.arange(-1.5, 1.5, 2/150)\r\n",
        "  T = []\r\n",
        "  for j in x:\r\n",
        "    S=0\r\n",
        "    for i in range(1,n+1):\r\n",
        "      S += (-1)**(i+1) * ( (j**i)/i ) \r\n",
        "    T.append(S)\r\n",
        "  return T\r\n",
        "\r\n",
        "n1 = int(input(\"Escriba el grado del primer polinomio: \"))\r\n",
        "n2 = int(input(\"Escriba el grado del segundo polinomio: \"))\r\n",
        "n3 = int(input(\"Escriba el grado del tercer polinomio: \"))\r\n",
        "n4 = int(input(\"Escriba el grado del cuarto polinomio: \"))\r\n",
        "\r\n",
        "x = np.arange(-1.5, 1.5, 2/150)\r\n",
        "plt.subplot(111)\r\n",
        "plt.plot(x, TLog(n1), Label=f\"T{n1}\")\r\n",
        "plt.plot(x, TLog(n2), Label=f\"T{n2}\")\r\n",
        "plt.plot(x, TLog(n3), Label=f\"T{n3}\")\r\n",
        "plt.plot(x, TLog(n4), Label=f\"T{n4}\")\r\n",
        "plt.plot(np.arange(-0.99, 1, 2/150), np.log(np.arange(-0.99, 1, 2/150)+1), Label=\"ln(x+1)\")\r\n",
        "plt.grid(True)\r\n",
        "plt.ylim(-4, 2)\r\n",
        "plt.legend(bbox_to_anchor=(1,1), loc=\"upper left\")\r\n",
        "\r\n",
        "plt.show()\r\n",
        "\r\n"
      ],
      "execution_count": 48,
      "outputs": [
        {
          "output_type": "stream",
          "text": [
            "Escriba el grado del primer polinomio: 4\n",
            "Escriba el grado del segundo polinomio: 7\n",
            "Escriba el grado del tercer polinomio: 11\n",
            "Escriba el grado del cuarto polinomio: 16\n"
          ],
          "name": "stdout"
        },
        {
          "output_type": "display_data",
          "data": {
            "image/png": "[encoded data removed]",
            "text/plain": [
              "<Figure size 432x288 with 1 Axes>"
            ]
          },
          "metadata": {
            "tags": [],
            "needs_background": "light"
          }
        }
      ]
    }
  ]
}