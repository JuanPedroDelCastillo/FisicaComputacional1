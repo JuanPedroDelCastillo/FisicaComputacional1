{
  "nbformat": 4,
  "nbformat_minor": 0,
  "metadata": {
    "colab": {
      "name": "Actividad3.ipynb",
      "provenance": [],
      "toc_visible": true,
      "authorship_tag": "ABX9TyOMks5XfFbX7kWPh/XlSzJ6",
      "include_colab_link": true
    },
    "kernelspec": {
      "name": "python3",
      "display_name": "Python 3"
    }
  },
  "cells": [
    {
      "cell_type": "markdown",
      "metadata": {
        "id": "view-in-github",
        "colab_type": "text"
      },
      "source": [
        "<a href=\"https://colab.research.google.com/github/JuanPedroDelCastillo/FisicaComputacional1/blob/master/Actividad3.ipynb\" target=\"_parent\"><img src=\"https://colab.research.google.com/assets/colab-badge.svg\" alt=\"Open In Colab\"/></a>"
      ]
    },
    {
      "cell_type": "markdown",
      "metadata": {
        "id": "yGPQeRocx3c-"
      },
      "source": [
        "# **Actividad 3**"
      ]
    },
    {
      "cell_type": "markdown",
      "metadata": {
        "id": "Wjd8p6Nhx7_4"
      },
      "source": [
        "Primero debemos **ejecutar la siguiente celda** para importar las bibliotecas utilizadas en los programas."
      ]
    },
    {
      "cell_type": "code",
      "metadata": {
        "id": "lV1DpgvyxN-V"
      },
      "source": [
        "import numpy as np\r\n",
        "import pandas as pd"
      ],
      "execution_count": 1,
      "outputs": []
    },
    {
      "cell_type": "markdown",
      "metadata": {
        "id": "h8NXiXBvyWW_"
      },
      "source": [
        "## Para importar el archivo y guardarlo en una variable:"
      ]
    },
    {
      "cell_type": "code",
      "metadata": {
        "id": "AqfiIOrJyeRo"
      },
      "source": [
        "#Para importar el archivo csv tenemos que poner el link de github, en el cual se tiene que abrir en forma raw\r\n",
        "url = \"https://raw.githubusercontent.com/JuanPedroDelCastillo/FisicaComputacional1/master/Actividad3/26139.txt\"\r\n",
        "\r\n",
        "#Hacemos una lista de los encabezados\r\n",
        "my_cols = ['Fecha', 'Precip', 'Evap', 'Tmax', 'Tmin']\r\n",
        "\r\n",
        "#Creamos la lista con el comando pd.read_cvs()\r\n",
        "#encoding 'cp1251' para poder usar símbolos en español\r\n",
        "#sep = '\\+' sirve para separar los datos con espacio\r\n",
        "#skiprows sirve para saltarse renglones, hasta nuestra dataframe de interés\r\n",
        "#skipfooter es para saltar renglones del final\r\n",
        "#engine python para manipularlo en python\r\n",
        "df_dist = pd.read_csv(url, names=my_cols, encoding='cp1251', sep='\\s+', header=None, skiprows=19, skipfooter=1, engine='python')"
      ],
      "execution_count": 38,
      "outputs": []
    },
    {
      "cell_type": "markdown",
      "metadata": {
        "id": "m4P8-U0i0p7y"
      },
      "source": [
        "## Para Imprimir el Inicio y Final:"
      ]
    },
    {
      "cell_type": "code",
      "metadata": {
        "colab": {
          "base_uri": "https://localhost:8080/"
        },
        "id": "hinBwJxK0ICY",
        "outputId": "0f9dd2d0-8f0c-4250-fb17-998eb84b8d05"
      },
      "source": [
        "#Imprime los primeros 5 renglones\r\n",
        "print(df_dist.head())\r\n",
        "\r\n",
        "#Imprime los últimos 5 renglones\r\n",
        "print(df_dist.tail())"
      ],
      "execution_count": 39,
      "outputs": [
        {
          "output_type": "stream",
          "text": [
            "        Fecha Precip Evap  Tmax Tmin\n",
            "0  01/01/1961      0  1.6    23    7\n",
            "1  02/01/1961      0  2.1    25    5\n",
            "2  03/01/1961      0  4.5    26    7\n",
            "3  04/01/1961      0  2.5  26.5    8\n",
            "4  05/01/1961     20  4.6    27  7.5\n",
            "            Fecha Precip  Evap  Tmax  Tmin\n",
            "19296  25/02/2018      0  Nulo  Nulo  Nulo\n",
            "19297  26/02/2018      0  Nulo  Nulo  Nulo\n",
            "19298  27/02/2018      0  Nulo  Nulo  Nulo\n",
            "19299  28/02/2018      0  Nulo  Nulo  Nulo\n",
            "19300  01/03/2018      0  Nulo  Nulo  Nulo\n"
          ],
          "name": "stdout"
        }
      ]
    },
    {
      "cell_type": "markdown",
      "metadata": {
        "id": "nmof0HaL2U3H"
      },
      "source": [
        "## Comandos para un Dataframe:"
      ]
    },
    {
      "cell_type": "markdown",
      "metadata": {
        "id": "wZYxoyD02dFo"
      },
      "source": [
        "### Imprime el encabezado y final del dataframe:"
      ]
    },
    {
      "cell_type": "code",
      "metadata": {
        "colab": {
          "base_uri": "https://localhost:8080/"
        },
        "id": "1tdvBWlB2r7d",
        "outputId": "da239ade-26d9-4ccd-b071-a88594184f39"
      },
      "source": [
        "#Imprimir las primeras n = 10 filas:\r\n",
        "print(df_dist.head(10))\r\n",
        "\r\n",
        "#Imprimir las últimas n = 10 filas:\r\n",
        "print(df_dist.tail(10))"
      ],
      "execution_count": 40,
      "outputs": [
        {
          "output_type": "stream",
          "text": [
            "        Fecha Precip Evap  Tmax Tmin\n",
            "0  01/01/1961      0  1.6    23    7\n",
            "1  02/01/1961      0  2.1    25    5\n",
            "2  03/01/1961      0  4.5    26    7\n",
            "3  04/01/1961      0  2.5  26.5    8\n",
            "4  05/01/1961     20  4.6    27  7.5\n",
            "5  06/01/1961      0  3.2  27.5   10\n",
            "6  07/01/1961      0  3.8    23   11\n",
            "7  08/01/1961      0  3.1    24    7\n",
            "8  09/01/1961      0  4.6    27  7.5\n",
            "9  10/01/1961      0  2.5    28   10\n",
            "            Fecha Precip  Evap  Tmax  Tmin\n",
            "19291  20/02/2018      0  Nulo  Nulo  Nulo\n",
            "19292  21/02/2018      0  Nulo  Nulo  Nulo\n",
            "19293  22/02/2018      0  Nulo  Nulo  Nulo\n",
            "19294  23/02/2018      0  Nulo  Nulo  Nulo\n",
            "19295  24/02/2018      0  Nulo  Nulo  Nulo\n",
            "19296  25/02/2018      0  Nulo  Nulo  Nulo\n",
            "19297  26/02/2018      0  Nulo  Nulo  Nulo\n",
            "19298  27/02/2018      0  Nulo  Nulo  Nulo\n",
            "19299  28/02/2018      0  Nulo  Nulo  Nulo\n",
            "19300  01/03/2018      0  Nulo  Nulo  Nulo\n"
          ],
          "name": "stdout"
        }
      ]
    },
    {
      "cell_type": "markdown",
      "metadata": {
        "id": "_8Dz3suI3B6A"
      },
      "source": [
        "### ¿Qué dimensiones tiene tu dataframe?"
      ]
    },
    {
      "cell_type": "code",
      "metadata": {
        "colab": {
          "base_uri": "https://localhost:8080/"
        },
        "id": "sTmgKzir3D7S",
        "outputId": "0651eb42-ba95-4c24-e9cf-df0cdf267edf"
      },
      "source": [
        "#Para conocer el tamaño de la dataframe\r\n",
        "df_dist.shape"
      ],
      "execution_count": 41,
      "outputs": [
        {
          "output_type": "execute_result",
          "data": {
            "text/plain": [
              "(19301, 5)"
            ]
          },
          "metadata": {
            "tags": []
          },
          "execution_count": 41
        }
      ]
    },
    {
      "cell_type": "markdown",
      "metadata": {
        "id": "K_VuWuGL3Omw"
      },
      "source": [
        "### ¿Cómo es el contenido de tu dataframe?"
      ]
    },
    {
      "cell_type": "code",
      "metadata": {
        "colab": {
          "base_uri": "https://localhost:8080/"
        },
        "id": "6Dk-h6SN3TxJ",
        "outputId": "2644debd-158f-4eb0-e155-036c6fea481a"
      },
      "source": [
        "df_dist.info"
      ],
      "execution_count": 42,
      "outputs": [
        {
          "output_type": "execute_result",
          "data": {
            "text/plain": [
              "<bound method DataFrame.info of             Fecha Precip  Evap  Tmax  Tmin\n",
              "0      01/01/1961      0   1.6    23     7\n",
              "1      02/01/1961      0   2.1    25     5\n",
              "2      03/01/1961      0   4.5    26     7\n",
              "3      04/01/1961      0   2.5  26.5     8\n",
              "4      05/01/1961     20   4.6    27   7.5\n",
              "...           ...    ...   ...   ...   ...\n",
              "19296  25/02/2018      0  Nulo  Nulo  Nulo\n",
              "19297  26/02/2018      0  Nulo  Nulo  Nulo\n",
              "19298  27/02/2018      0  Nulo  Nulo  Nulo\n",
              "19299  28/02/2018      0  Nulo  Nulo  Nulo\n",
              "19300  01/03/2018      0  Nulo  Nulo  Nulo\n",
              "\n",
              "[19301 rows x 5 columns]>"
            ]
          },
          "metadata": {
            "tags": []
          },
          "execution_count": 42
        }
      ]
    },
    {
      "cell_type": "markdown",
      "metadata": {
        "id": "MNQMeoSn6Xo0"
      },
      "source": [
        "### Reemplazar datos **Nulos**"
      ]
    },
    {
      "cell_type": "code",
      "metadata": {
        "colab": {
          "base_uri": "https://localhost:8080/"
        },
        "id": "JHWCPV3-6d6m",
        "outputId": "4d0d3678-31bd-4cd2-892e-fbd2c375a0da"
      },
      "source": [
        "#Primero realizamos una copia de trabajo y preservamos el dataframe original\r\n",
        "df_work0 = df_dist.copy()\r\n",
        "print(df_work0.head(3),\r\n",
        "      '\\n',\r\n",
        "      df_work0.tail(3)\r\n",
        ")"
      ],
      "execution_count": 43,
      "outputs": [
        {
          "output_type": "stream",
          "text": [
            "        Fecha Precip Evap Tmax Tmin\n",
            "0  01/01/1961      0  1.6   23    7\n",
            "1  02/01/1961      0  2.1   25    5\n",
            "2  03/01/1961      0  4.5   26    7 \n",
            "             Fecha Precip  Evap  Tmax  Tmin\n",
            "19298  27/02/2018      0  Nulo  Nulo  Nulo\n",
            "19299  28/02/2018      0  Nulo  Nulo  Nulo\n",
            "19300  01/03/2018      0  Nulo  Nulo  Nulo\n"
          ],
          "name": "stdout"
        }
      ]
    },
    {
      "cell_type": "code",
      "metadata": {
        "colab": {
          "base_uri": "https://localhost:8080/"
        },
        "id": "_LNlyKOmK9nZ",
        "outputId": "86841ed1-86a6-4a03-94c9-2bd703e35fdc"
      },
      "source": [
        "#Reemplazamos los textos 'Nulo' por espacio en blanco ''\r\n",
        "str_Nulo = 'Nulo'\r\n",
        "df_work1 = df_work0.replace(to_replace=str_Nulo, value='', regex=True)\r\n",
        "print(df_work1.head(3),\r\n",
        "      '\\n',\r\n",
        "      df_work1.tail(3)\r\n",
        ")"
      ],
      "execution_count": 44,
      "outputs": [
        {
          "output_type": "stream",
          "text": [
            "        Fecha Precip Evap Tmax Tmin\n",
            "0  01/01/1961      0  1.6   23    7\n",
            "1  02/01/1961      0  2.1   25    5\n",
            "2  03/01/1961      0  4.5   26    7 \n",
            "             Fecha Precip Evap Tmax Tmin\n",
            "19298  27/02/2018      0               \n",
            "19299  28/02/2018      0               \n",
            "19300  01/03/2018      0               \n"
          ],
          "name": "stdout"
        }
      ]
    },
    {
      "cell_type": "code",
      "metadata": {
        "colab": {
          "base_uri": "https://localhost:8080/"
        },
        "id": "GSCnMQjTMolM",
        "outputId": "1820101b-9fac-4078-9ac5-12f9d5479a16"
      },
      "source": [
        "#Imprimimos la información actualizada del dataframe\r\n",
        "df_work1.info()"
      ],
      "execution_count": 45,
      "outputs": [
        {
          "output_type": "stream",
          "text": [
            "<class 'pandas.core.frame.DataFrame'>\n",
            "RangeIndex: 19301 entries, 0 to 19300\n",
            "Data columns (total 5 columns):\n",
            " #   Column  Non-Null Count  Dtype \n",
            "---  ------  --------------  ----- \n",
            " 0   Fecha   19301 non-null  object\n",
            " 1   Precip  19301 non-null  object\n",
            " 2   Evap    19301 non-null  object\n",
            " 3   Tmax    19301 non-null  object\n",
            " 4   Tmin    19301 non-null  object\n",
            "dtypes: object(5)\n",
            "memory usage: 754.1+ KB\n"
          ],
          "name": "stdout"
        }
      ]
    },
    {
      "cell_type": "markdown",
      "metadata": {
        "id": "DK9EHj8LMTLF"
      },
      "source": [
        "### Convertir objetos a **Números Flotantes**"
      ]
    },
    {
      "cell_type": "markdown",
      "metadata": {
        "id": "ogm8rsjEO4qL"
      },
      "source": [
        "Para convertir los objetos a variables reales o flotantes, usamos for de tal modo que cada columna sustituya sus objetos a flotantes. Posteriormente se enseña la información modificada.\r\n",
        "\r\n",
        "Además, se puede saber el número de datos nulos o vacíos con la función **df.isnull().sum()**."
      ]
    },
    {
      "cell_type": "code",
      "metadata": {
        "colab": {
          "base_uri": "https://localhost:8080/"
        },
        "id": "7gLUTA-0M6ja",
        "outputId": "7c1b3be7-e7ca-4182-8535-65c3351ef453"
      },
      "source": [
        "#Usando el comando pd.to_numeric convertimos los objetos a variables reales\r\n",
        "cols_list = ['Precip', 'Evap', 'Tmax', 'Tmin']\r\n",
        "for cols in cols_list:\r\n",
        "  df_work1[cols] = pd.to_numeric(df_work1[cols], errors='coerce')\r\n",
        "\r\n",
        "#Se verán los datos ahora como flotantes\r\n",
        "print(df_work1.info())\r\n",
        "\r\n",
        "#Se muestran cuantos datos son nulos o vacíos\r\n",
        "print(df_work1.isnull().sum())\r\n",
        "\r\n",
        "#Se muestran los datos iniciales y finales\r\n",
        "print(df_work1.head(3),\r\n",
        "      '\\n',\r\n",
        "      df_work1.tail(3)\r\n",
        ")"
      ],
      "execution_count": 46,
      "outputs": [
        {
          "output_type": "stream",
          "text": [
            "<class 'pandas.core.frame.DataFrame'>\n",
            "RangeIndex: 19301 entries, 0 to 19300\n",
            "Data columns (total 5 columns):\n",
            " #   Column  Non-Null Count  Dtype  \n",
            "---  ------  --------------  -----  \n",
            " 0   Fecha   19301 non-null  object \n",
            " 1   Precip  19291 non-null  float64\n",
            " 2   Evap    10285 non-null  float64\n",
            " 3   Tmax    19121 non-null  float64\n",
            " 4   Tmin    19138 non-null  float64\n",
            "dtypes: float64(4), object(1)\n",
            "memory usage: 754.1+ KB\n",
            "None\n",
            "Fecha        0\n",
            "Precip      10\n",
            "Evap      9016\n",
            "Tmax       180\n",
            "Tmin       163\n",
            "dtype: int64\n",
            "        Fecha  Precip  Evap  Tmax  Tmin\n",
            "0  01/01/1961     0.0   1.6  23.0   7.0\n",
            "1  02/01/1961     0.0   2.1  25.0   5.0\n",
            "2  03/01/1961     0.0   4.5  26.0   7.0 \n",
            "             Fecha  Precip  Evap  Tmax  Tmin\n",
            "19298  27/02/2018     0.0   NaN   NaN   NaN\n",
            "19299  28/02/2018     0.0   NaN   NaN   NaN\n",
            "19300  01/03/2018     0.0   NaN   NaN   NaN\n"
          ],
          "name": "stdout"
        }
      ]
    },
    {
      "cell_type": "markdown",
      "metadata": {
        "id": "3NYS1E4jPRpN"
      },
      "source": [
        "### Estadística de las variables numéricas"
      ]
    },
    {
      "cell_type": "code",
      "metadata": {
        "colab": {
          "base_uri": "https://localhost:8080/",
          "height": 294
        },
        "id": "2100u38ZanWJ",
        "outputId": "944c2f2a-d591-4a41-cb51-591e5b9dd3db"
      },
      "source": [
        "#A partir del comando df.describe() podemos obtener datos básicos de estadística\r\n",
        "df_work1.describe().round(2)"
      ],
      "execution_count": 48,
      "outputs": [
        {
          "output_type": "execute_result",
          "data": {
            "text/html": [
              "<div>\n",
              "<style scoped>\n",
              "    .dataframe tbody tr th:only-of-type {\n",
              "        vertical-align: middle;\n",
              "    }\n",
              "\n",
              "    .dataframe tbody tr th {\n",
              "        vertical-align: top;\n",
              "    }\n",
              "\n",
              "    .dataframe thead th {\n",
              "        text-align: right;\n",
              "    }\n",
              "</style>\n",
              "<table border=\"1\" class=\"dataframe\">\n",
              "  <thead>\n",
              "    <tr style=\"text-align: right;\">\n",
              "      <th></th>\n",
              "      <th>Precip</th>\n",
              "      <th>Evap</th>\n",
              "      <th>Tmax</th>\n",
              "      <th>Tmin</th>\n",
              "    </tr>\n",
              "  </thead>\n",
              "  <tbody>\n",
              "    <tr>\n",
              "      <th>count</th>\n",
              "      <td>19291.00</td>\n",
              "      <td>10285.00</td>\n",
              "      <td>19121.00</td>\n",
              "      <td>19138.00</td>\n",
              "    </tr>\n",
              "    <tr>\n",
              "      <th>mean</th>\n",
              "      <td>0.98</td>\n",
              "      <td>7.17</td>\n",
              "      <td>32.30</td>\n",
              "      <td>17.55</td>\n",
              "    </tr>\n",
              "    <tr>\n",
              "      <th>std</th>\n",
              "      <td>5.49</td>\n",
              "      <td>3.34</td>\n",
              "      <td>6.77</td>\n",
              "      <td>6.65</td>\n",
              "    </tr>\n",
              "    <tr>\n",
              "      <th>min</th>\n",
              "      <td>0.00</td>\n",
              "      <td>0.10</td>\n",
              "      <td>8.00</td>\n",
              "      <td>-3.00</td>\n",
              "    </tr>\n",
              "    <tr>\n",
              "      <th>25%</th>\n",
              "      <td>0.00</td>\n",
              "      <td>4.50</td>\n",
              "      <td>27.00</td>\n",
              "      <td>12.00</td>\n",
              "    </tr>\n",
              "    <tr>\n",
              "      <th>50%</th>\n",
              "      <td>0.00</td>\n",
              "      <td>6.90</td>\n",
              "      <td>33.00</td>\n",
              "      <td>17.00</td>\n",
              "    </tr>\n",
              "    <tr>\n",
              "      <th>75%</th>\n",
              "      <td>0.00</td>\n",
              "      <td>9.60</td>\n",
              "      <td>38.00</td>\n",
              "      <td>24.00</td>\n",
              "    </tr>\n",
              "    <tr>\n",
              "      <th>max</th>\n",
              "      <td>152.60</td>\n",
              "      <td>18.00</td>\n",
              "      <td>48.50</td>\n",
              "      <td>31.00</td>\n",
              "    </tr>\n",
              "  </tbody>\n",
              "</table>\n",
              "</div>"
            ],
            "text/plain": [
              "         Precip      Evap      Tmax      Tmin\n",
              "count  19291.00  10285.00  19121.00  19138.00\n",
              "mean       0.98      7.17     32.30     17.55\n",
              "std        5.49      3.34      6.77      6.65\n",
              "min        0.00      0.10      8.00     -3.00\n",
              "25%        0.00      4.50     27.00     12.00\n",
              "50%        0.00      6.90     33.00     17.00\n",
              "75%        0.00      9.60     38.00     24.00\n",
              "max      152.60     18.00     48.50     31.00"
            ]
          },
          "metadata": {
            "tags": []
          },
          "execution_count": 48
        }
      ]
    },
    {
      "cell_type": "markdown",
      "metadata": {
        "id": "vtmKyv9xa6Kj"
      },
      "source": [
        "De estos datos se pueden analizar varios aspectos interesantes. Por ejemplo, la temperatura máxima en Hermosillo hasta la fecha de la recolepción de datos fue de 48.50 grados, mientras que la menor temperatura mínima ha sido -3.00 grados.\r\n",
        "También se pueden analizar aspectos como los promedios y desviación estandar, por ejemplo el promedio de precipitación es de aproximadamente 1 mm y la desviación estandar de 5.49.  \r\n",
        "\r\n",
        "Esta información también nos verifica si la información ha sido manipulada correctamente. Si se encuentran datos sin sentido puede advertirnos de posibles errores. En este caso se ve todo en orden.\r\n"
      ]
    },
    {
      "cell_type": "markdown",
      "metadata": {
        "id": "yD_B3EwJca2H"
      },
      "source": [
        "### Convertir objeto a variable de **Tiempo**"
      ]
    },
    {
      "cell_type": "code",
      "metadata": {
        "colab": {
          "base_uri": "https://localhost:8080/"
        },
        "id": "MpExscLQdPk4",
        "outputId": "99566aba-7e21-4ff5-f6df-e5aaa5f81afe"
      },
      "source": [
        "#Antes de comenzar con nuevos pasos, es importante realizar una copia de\r\n",
        "#seguridad para nuestra información\r\n",
        "df_work2 = df_work1.copy()\r\n",
        "df_work2['Fecha'].head()"
      ],
      "execution_count": 49,
      "outputs": [
        {
          "output_type": "execute_result",
          "data": {
            "text/plain": [
              "0    01/01/1961\n",
              "1    02/01/1961\n",
              "2    03/01/1961\n",
              "3    04/01/1961\n",
              "4    05/01/1961\n",
              "Name: Fecha, dtype: object"
            ]
          },
          "metadata": {
            "tags": []
          },
          "execution_count": 49
        }
      ]
    },
    {
      "cell_type": "markdown",
      "metadata": {
        "id": "EVFN4Npse53W"
      },
      "source": [
        "El tipo de variable **datetime64[ns]** contiene el año, mes y día de alguna fecha, para utilzarla convertimos de objeto a datetime. Para verificar el tipo de variable de las diferentes columnas usamos **dtypes**."
      ]
    },
    {
      "cell_type": "code",
      "metadata": {
        "colab": {
          "base_uri": "https://localhost:8080/"
        },
        "id": "lcJHGgEclUPv",
        "outputId": "ef8a2b52-2c19-4bb0-8d6f-a9b7827b4836"
      },
      "source": [
        "#Usamos dayfirst para que utilice el formato español de las fechas\r\n",
        "df_work2['Fecha']=pd.to_datetime(df_work2['Fecha'], dayfirst=True).copy()\r\n",
        "\r\n",
        "#dtypes para imprimir los tipos de variables\r\n",
        "print(df_work2.dtypes)"
      ],
      "execution_count": 51,
      "outputs": [
        {
          "output_type": "stream",
          "text": [
            "Fecha     datetime64[ns]\n",
            "Precip           float64\n",
            "Evap             float64\n",
            "Tmax             float64\n",
            "Tmin             float64\n",
            "dtype: object\n"
          ],
          "name": "stdout"
        }
      ]
    },
    {
      "cell_type": "markdown",
      "metadata": {
        "id": "54N0ZH5Xlnu8"
      },
      "source": [
        "Para añadir dos columnas extra en la que mostraremos el año y el mes utilizamos el siguiente comando:"
      ]
    },
    {
      "cell_type": "code",
      "metadata": {
        "colab": {
          "base_uri": "https://localhost:8080/"
        },
        "id": "9mHXHM7MmPS3",
        "outputId": "29f72ec9-df99-4686-b380-ecce957c8745"
      },
      "source": [
        "#dt.year hace referencia al año de una variable datetime64.\r\n",
        "df_work2['Año'] = df_work2['Fecha'].dt.year\r\n",
        "\r\n",
        "#dt.month hace referencia al mes de una variable datetime64.\r\n",
        "df_work2['Mes'] = df_work2['Fecha'].dt.month\r\n",
        "\r\n",
        "#Verificamos que todo este en orden\r\n",
        "print(df_work2.head(3),\r\n",
        "      '\\n',\r\n",
        "      df_work2.tail(3),\r\n",
        "      '\\n',\r\n",
        "      df_work2.dtypes\r\n",
        ")\r\n",
        "\r\n"
      ],
      "execution_count": 54,
      "outputs": [
        {
          "output_type": "stream",
          "text": [
            "       Fecha  Precip  Evap  Tmax  Tmin   Año  Mes\n",
            "0 1961-01-01     0.0   1.6  23.0   7.0  1961    1\n",
            "1 1961-01-02     0.0   2.1  25.0   5.0  1961    1\n",
            "2 1961-01-03     0.0   4.5  26.0   7.0  1961    1 \n",
            "            Fecha  Precip  Evap  Tmax  Tmin   Año  Mes\n",
            "19298 2018-02-27     0.0   NaN   NaN   NaN  2018    2\n",
            "19299 2018-02-28     0.0   NaN   NaN   NaN  2018    2\n",
            "19300 2018-03-01     0.0   NaN   NaN   NaN  2018    3 \n",
            " Fecha     datetime64[ns]\n",
            "Precip           float64\n",
            "Evap             float64\n",
            "Tmax             float64\n",
            "Tmin             float64\n",
            "Año                int64\n",
            "Mes                int64\n",
            "dtype: object\n"
          ],
          "name": "stdout"
        }
      ]
    }
  ]
}