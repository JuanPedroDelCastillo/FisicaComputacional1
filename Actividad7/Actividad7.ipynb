{
  "nbformat": 4,
  "nbformat_minor": 0,
  "metadata": {
    "colab": {
      "name": "Actividad7.ipynb",
      "provenance": [],
      "collapsed_sections": [],
      "authorship_tag": "ABX9TyMT6B1xBea1Pp6skIWLTHKR",
      "include_colab_link": true
    },
    "kernelspec": {
      "name": "python3",
      "display_name": "Python 3"
    }
  },
  "cells": [
    {
      "cell_type": "markdown",
      "metadata": {
        "id": "view-in-github",
        "colab_type": "text"
      },
      "source": [
        "<a href=\"https://colab.research.google.com/github/JuanPedroDelCastillo/FisicaComputacional1/blob/master/Actividad7.ipynb\" target=\"_parent\"><img src=\"https://colab.research.google.com/assets/colab-badge.svg\" alt=\"Open In Colab\"/></a>"
      ]
    },
    {
      "cell_type": "markdown",
      "metadata": {
        "id": "oUYYIwiJxPFc"
      },
      "source": [
        "# **Actividad 7**"
      ]
    },
    {
      "cell_type": "markdown",
      "metadata": {
        "id": "L3l7xpCJxU3n"
      },
      "source": [
        "Importar Bibliotecas"
      ]
    },
    {
      "cell_type": "code",
      "metadata": {
        "id": "oacd1U7xxMe_"
      },
      "source": [
        "import numpy as np\r\n",
        "import scipy.linalg as la\r\n",
        "from numpy.linalg import matrix_power as mpow\r\n",
        "\r\n",
        "import matplotlib.pyplot as plt\r\n",
        "%matplotlib inline"
      ],
      "execution_count": null,
      "outputs": []
    },
    {
      "cell_type": "markdown",
      "metadata": {
        "id": "HxH4qpXP_6uj"
      },
      "source": [
        "## Ejercicio 1"
      ]
    },
    {
      "cell_type": "markdown",
      "metadata": {
        "id": "KZbE3LycABpy"
      },
      "source": [
        "Defina las siguientes matrices.\r\n",
        "\r\n",
        "\\begin{equation*}\r\n",
        " A\r\n",
        " =\r\n",
        "  \\begin{bmatrix}\r\n",
        "   1 & 3 \\\\\r\n",
        "   -1 & 7\r\n",
        "  \\end{bmatrix}\r\n",
        "\\end{equation*}\r\n",
        "\r\n",
        "$$\\begin{equation*}\r\n",
        " B =\r\n",
        "  \\begin{bmatrix}\r\n",
        "   5 & 2 \\\\\r\n",
        "   1 & 2\r\n",
        "   \\end{bmatrix}\r\n",
        "\\end{equation*}$$\r\n",
        "y la matrix identidad\r\n",
        "\r\n",
        "$$\\begin{equation*}\r\n",
        " I = \r\n",
        "   \\begin{bmatrix}\r\n",
        "   1 & 0 \\\\\r\n",
        "   0 & 1\r\n",
        "   \\end{bmatrix}\r\n",
        "\\end{equation*}$$\r\n",
        "\r\n",
        "Calcule el resultado de $2*I+3*A+A@B$."
      ]
    },
    {
      "cell_type": "code",
      "metadata": {
        "colab": {
          "base_uri": "https://localhost:8080/"
        },
        "id": "ilv6H7e5AA5O",
        "outputId": "f239d2fb-e520-4db7-f4a8-f20bb5983757"
      },
      "source": [
        "# Para definir una matriz:\r\n",
        "A = np.array([[1, 3],[-1, 7]])\r\n",
        "B = np.array([[5, 2], [1, 2]])\r\n",
        "\r\n",
        "# Para definir la matriz identidad:\r\n",
        "I = np.eye(2, dtype=int)\r\n",
        "\r\n",
        "# Para realizar operaciones aritméticas:\r\n",
        "# Las operaciones aritméticas +, -, /, * y ** se realizan elemento a elemento\r\n",
        "# La operación @ es el producto matricial\r\n",
        "print(2*I + 3*A + A@B)\r\n",
        "\r\n",
        "# Potencia Matricial mpow(M, n) por ejemplo: M^3 = M@M@M se realiza mpow(M, 3)\r\n",
        "# La matriz M y su transpuesta es con M.T\r\n",
        "# Traza de la matriz M: np.trace(M)\r\n",
        "# Determinante de la matriz M: la.det(M)\r\n",
        "# Matriz inversa de M: la.inv(M)"
      ],
      "execution_count": null,
      "outputs": [
        {
          "output_type": "stream",
          "text": [
            "[[13 17]\n",
            " [-1 35]]\n"
          ],
          "name": "stdout"
        }
      ]
    },
    {
      "cell_type": "markdown",
      "metadata": {
        "id": "we1zX3prDi6q"
      },
      "source": [
        "## Ejercicio 2\r\n",
        "\r\n"
      ]
    },
    {
      "cell_type": "markdown",
      "metadata": {
        "id": "ZjnYVX86Ekd1"
      },
      "source": [
        "**Los polinomios característicos y el Teorema de Cayley-Hamilton.**\r\n",
        "\r\n",
        "El polinomio característico de una matriz M esta dado en general por la ecuación\r\n",
        "\r\n",
        "$$\\det(M - \\lambda I) = 0\r\n",
        "\\\\\r\n",
        "$$Para una matriz cuadrada M (2x2), el polinomio característico se puede escribir como$$\r\n",
        "P_2 (\\lambda) = \\det{(M)} - \\mathrm{tr}(M) \\, \\lambda + \\lambda^2   \r\n",
        "\\\\\r\n",
        "$$y para una matriz cuadrada M (3x3), el polinomio característico resulta ser\r\n",
        "\r\n",
        "$$P_3 (\\lambda) = \\frac{1}{6} \r\n",
        "[ \\mathrm{tr}^3 (M) + 2 \\, \\mathrm{tr }(M^3) - 3 \\, \\mathrm{tr}(M) \\mathrm{tr}(M^2) ] - \r\n",
        "\\frac{1}{2} [ \\mathrm{tr}^2 (M) - \\mathrm{tr}(M^2) ] \\lambda + \\mathrm{tr}(M) \\lambda^2 - \\lambda^3\r\n",
        "\r\n",
        "\\\\\r\n",
        "$$El Teorema de Cayley-Hamilton nos dice que una matriz cuadrada M (2x2), satisface el polinomio característico\r\n",
        "\r\n",
        "$$P_2(M) = \\det(M)I - \\mathrm{tr}(M) M + M^2 \r\n",
        "\r\n",
        "\\\\\r\n",
        "$$y en general cualquier matriz cuadrada M (nxn), satisface $P_n(M)$.\r\n",
        "\r\n",
        "Demuestre esto para cualquier matriz M (2x2), ($\\det(M) \\neq 0$)."
      ]
    },
    {
      "cell_type": "markdown",
      "metadata": {
        "id": "ABUryh54WoFJ"
      },
      "source": [
        "***Demostración:***"
      ]
    },
    {
      "cell_type": "markdown",
      "metadata": {
        "id": "3XfQCMuldYzJ"
      },
      "source": [
        "Definamos la matriz M como:\r\n",
        "\r\n",
        "\\begin{equation*}\r\n",
        " M\r\n",
        " =\r\n",
        "  \\begin{bmatrix}\r\n",
        "   a & b \\\\\r\n",
        "   c & d\r\n",
        "   \\end{bmatrix}\r\n",
        "\\end{equation*}\r\n",
        "\r\n",
        "Tenemos que la determinante de M es distinto de cero:\r\n",
        "\r\n",
        "$$det(M)=ad-bc\\neq 0$$\r\n",
        "\r\n",
        "Desarrollando el Polinomio característico:\r\n",
        "\r\n",
        "$$P_2(M) = \\det(M)I - \\mathrm{tr}(M) M + M^2$$\r\n",
        "\r\n",
        "\\begin{equation*}\r\n",
        " P_2(M)\r\n",
        " =\r\n",
        "  (ad-bc)\r\n",
        "  \\begin{bmatrix}\r\n",
        "   1 & 0 \\\\\r\n",
        "   0 & 1\r\n",
        "   \\end{bmatrix}\r\n",
        "\r\n",
        "   -(a+d)\r\n",
        "   \\begin{bmatrix}\r\n",
        "   a & b \\\\\r\n",
        "   c & d\r\n",
        "   \\end{bmatrix}\r\n",
        "\r\n",
        "   +\r\n",
        "   \\begin{bmatrix}\r\n",
        "   a & b \\\\\r\n",
        "   c & d\r\n",
        "   \\end{bmatrix}\r\n",
        "   \\begin{bmatrix}\r\n",
        "   a & b \\\\\r\n",
        "   c & d\r\n",
        "   \\end{bmatrix}\r\n",
        "\\end{equation*}\r\n",
        "\r\n",
        "\\begin{equation*}\r\n",
        " P_2(M)\r\n",
        " =\r\n",
        "  \\begin{bmatrix}\r\n",
        "   ad-bc & 0 \\\\\r\n",
        "   0 & ad-bc\r\n",
        "   \\end{bmatrix}\r\n",
        "\r\n",
        "   +\r\n",
        "   \\begin{bmatrix}\r\n",
        "   -a^2-ad & -ab-bd \\\\\r\n",
        "   -ac-cd & -ad-d^2\r\n",
        "   \\end{bmatrix}\r\n",
        "\r\n",
        "   +\r\n",
        "   \\begin{bmatrix}\r\n",
        "   a^2+bc & ab+bd \\\\\r\n",
        "   ac+cd & bd+d^2\r\n",
        "   \\end{bmatrix}\r\n",
        "\r\n",
        "\\end{equation*}\r\n",
        "\r\n",
        "Realizando la suma de las componentes nos queda la matriz:\r\n",
        "\r\n",
        "\\begin{equation*}\r\n",
        " P_2(M)\r\n",
        " =\r\n",
        "  \\begin{bmatrix}\r\n",
        "   0 & 0 \\\\\r\n",
        "   0 & 0\r\n",
        "   \\end{bmatrix}\r\n",
        "\\end{equation*}"
      ]
    },
    {
      "cell_type": "markdown",
      "metadata": {
        "id": "rRgQXS5EM52Y"
      },
      "source": [
        "## Ejercicio 3"
      ]
    },
    {
      "cell_type": "markdown",
      "metadata": {
        "id": "i7P0zPGzNBn_"
      },
      "source": [
        "Resuelva el sistema de ecuaciones:\r\n",
        "\r\n",
        "\\begin{eqnarray*}\r\n",
        "x - 3 y + z =  1 \\\\ \\nonumber\r\n",
        "3 x - 4y + z = 5 \\\\ \\nonumber\r\n",
        "2 y - z = 0 \\\\ \\nonumber\r\n",
        "\\end{eqnarray*}\r\n",
        "\r\n",
        "de dos formas, utilizando el Método de Eliminación Gaussiana y la utilzando la función scipy.linalg.solve()"
      ]
    },
    {
      "cell_type": "markdown",
      "metadata": {
        "id": "WDh2h8LITIeX"
      },
      "source": [
        "### Eliminación Gaussiana"
      ]
    },
    {
      "cell_type": "code",
      "metadata": {
        "id": "1UzBhT7sIWSd"
      },
      "source": [
        "# Implementación del método de eliminación Gaussiana\r\n",
        "# Definimos 3 funciones \r\n",
        "\r\n",
        "# Intercambio de posición de renglones.\r\n",
        "def switch_rows(A,i,j):\r\n",
        "    \"Intercambiar renglones i y j en la matriz A.\"\r\n",
        "    n = A.shape[0]\r\n",
        "    E = np.eye(n)\r\n",
        "    E[i,i] = 0\r\n",
        "    E[j,j] = 0\r\n",
        "    E[i,j] = 1\r\n",
        "    E[j,i] = 1\r\n",
        "    return E @ A\r\n",
        "\r\n",
        "# Multiplicar un renglón por una constante no nula.\r\n",
        "def scale_row(A,k,i):\r\n",
        "    \"Multiplicar el renglón i por k en la matriz A.\"\r\n",
        "    n = A.shape[0]\r\n",
        "    E = np.eye(n)\r\n",
        "    E[i,i] = k\r\n",
        "    return E @ A\r\n",
        "\r\n",
        "# Sumar un múltiplo de un reglon a otro renglón.\r\n",
        "def add_row(A,k,i,j):\r\n",
        "    \"Sumar k veces el renglón j al renglón i en la matriz A.\"\r\n",
        "    n = A.shape[0]\r\n",
        "    E = np.eye(n)\r\n",
        "    if i == j:\r\n",
        "        E[i,i] = k + 1\r\n",
        "    else:\r\n",
        "        E[i,j] = k\r\n",
        "    return E @ A"
      ],
      "execution_count": null,
      "outputs": []
    },
    {
      "cell_type": "code",
      "metadata": {
        "colab": {
          "base_uri": "https://localhost:8080/"
        },
        "id": "Rv61r2nJNlLI",
        "outputId": "c2a77502-de1b-47a9-acbf-31782eaf0f6c"
      },
      "source": [
        "# Definimos la matriz M\r\n",
        "M = np.array([[1, -3, 1], [1, -4, 1], [0, 2, -1]])\r\n",
        "print(M)\r\n",
        "print('det(M) = ', la.det(M))"
      ],
      "execution_count": null,
      "outputs": [
        {
          "output_type": "stream",
          "text": [
            "[[ 1 -3  1]\n",
            " [ 1 -4  1]\n",
            " [ 0  2 -1]]\n",
            "det(M) =  0.9999999999999998\n"
          ],
          "name": "stdout"
        }
      ]
    },
    {
      "cell_type": "code",
      "metadata": {
        "colab": {
          "base_uri": "https://localhost:8080/"
        },
        "id": "ed9o37KWOL_R",
        "outputId": "4f251c89-3d07-4db0-8e4f-c264ffcc46d8"
      },
      "source": [
        "# Matriz aumentada: Unimos la matriz M con la matriz Identidad \r\n",
        "A = np.hstack([M,np.eye(3)])\r\n",
        "print(A)"
      ],
      "execution_count": null,
      "outputs": [
        {
          "output_type": "stream",
          "text": [
            "[[ 1. -3.  1.  1.  0.  0.]\n",
            " [ 1. -4.  1.  0.  1.  0.]\n",
            " [ 0.  2. -1.  0.  0.  1.]]\n"
          ],
          "name": "stdout"
        }
      ]
    },
    {
      "cell_type": "code",
      "metadata": {
        "colab": {
          "base_uri": "https://localhost:8080/"
        },
        "id": "TKb2xybAONbI",
        "outputId": "1451cd6f-f7a4-4785-89a6-df52e2b4385d"
      },
      "source": [
        "# 1) L2 + -L1 ->  L2; \r\n",
        "A1 = add_row(A,-1,1,0)\r\n",
        "print(A1)"
      ],
      "execution_count": null,
      "outputs": [
        {
          "output_type": "stream",
          "text": [
            "[[ 1. -3.  1.  1.  0.  0.]\n",
            " [ 0. -1.  0. -1.  1.  0.]\n",
            " [ 0.  2. -1.  0.  0.  1.]]\n"
          ],
          "name": "stdout"
        }
      ]
    },
    {
      "cell_type": "code",
      "metadata": {
        "colab": {
          "base_uri": "https://localhost:8080/"
        },
        "id": "pG4S9wpdPX8V",
        "outputId": "3f0486b4-588c-49b5-a075-c5aa9b4938a9"
      },
      "source": [
        "# 2) -L2 ->  L2;\r\n",
        "A2 = scale_row(A1,-1,1)\r\n",
        "print(A2)"
      ],
      "execution_count": null,
      "outputs": [
        {
          "output_type": "stream",
          "text": [
            "[[ 1. -3.  1.  1.  0.  0.]\n",
            " [ 0.  1.  0.  1. -1.  0.]\n",
            " [ 0.  2. -1.  0.  0.  1.]]\n"
          ],
          "name": "stdout"
        }
      ]
    },
    {
      "cell_type": "code",
      "metadata": {
        "colab": {
          "base_uri": "https://localhost:8080/"
        },
        "id": "n_gBZYWUP9Id",
        "outputId": "45c9bf8f-a31e-45ca-bfe5-e24178597524"
      },
      "source": [
        "# 3) L1 + 3 L2 ->  L1;\r\n",
        "#    L3 + -2 L2 ->  L3;\r\n",
        "A3_tmp = add_row(A2,3,0,1)\r\n",
        "A3 = add_row(A3_tmp,-2,2,1)\r\n",
        "print(A3)"
      ],
      "execution_count": null,
      "outputs": [
        {
          "output_type": "stream",
          "text": [
            "[[ 1.  0.  1.  4. -3.  0.]\n",
            " [ 0.  1.  0.  1. -1.  0.]\n",
            " [ 0.  0. -1. -2.  2.  1.]]\n"
          ],
          "name": "stdout"
        }
      ]
    },
    {
      "cell_type": "code",
      "metadata": {
        "colab": {
          "base_uri": "https://localhost:8080/"
        },
        "id": "wf84aSjORRhA",
        "outputId": "63634e54-b18c-4fa9-8cba-4d1799c68b1f"
      },
      "source": [
        "# 4) L1 + L3 ->  L1;\r\n",
        "#    -L3 ->  L3;\r\n",
        "A4_tmp = add_row(A3,1,0,2)\r\n",
        "A4 = scale_row(A4_tmp,-1,2)\r\n",
        "print(A4)"
      ],
      "execution_count": null,
      "outputs": [
        {
          "output_type": "stream",
          "text": [
            "[[ 1.  0.  0.  2. -1.  1.]\n",
            " [ 0.  1.  0.  1. -1.  0.]\n",
            " [ 0.  0.  1.  2. -2. -1.]]\n"
          ],
          "name": "stdout"
        }
      ]
    },
    {
      "cell_type": "code",
      "metadata": {
        "colab": {
          "base_uri": "https://localhost:8080/"
        },
        "id": "ktlm13FQSY_j",
        "outputId": "b007898e-f807-40b2-fd45-a5ae6b6a69b7"
      },
      "source": [
        "# Hemos obtenido la inversa\r\n",
        "M_inv = A4[:,3:]\r\n",
        "print(M_inv)"
      ],
      "execution_count": null,
      "outputs": [
        {
          "output_type": "stream",
          "text": [
            "[[ 2. -1.  1.]\n",
            " [ 1. -1.  0.]\n",
            " [ 2. -2. -1.]]\n"
          ],
          "name": "stdout"
        }
      ]
    },
    {
      "cell_type": "code",
      "metadata": {
        "colab": {
          "base_uri": "https://localhost:8080/"
        },
        "id": "2P5UlIYkUCZR",
        "outputId": "7876aa63-9419-4140-9e4f-a82c4a5f3b08"
      },
      "source": [
        "# Checamos la inversa de M con la función 'la.inv(M)'\r\n",
        "la.inv(M)"
      ],
      "execution_count": null,
      "outputs": [
        {
          "output_type": "execute_result",
          "data": {
            "text/plain": [
              "array([[ 2., -1.,  1.],\n",
              "       [ 1., -1.,  0.],\n",
              "       [ 2., -2., -1.]])"
            ]
          },
          "metadata": {
            "tags": []
          },
          "execution_count": 38
        }
      ]
    },
    {
      "cell_type": "code",
      "metadata": {
        "colab": {
          "base_uri": "https://localhost:8080/"
        },
        "id": "Th25Rcq5Siiw",
        "outputId": "48890ede-692c-4e17-a679-13dd05730623"
      },
      "source": [
        "# definimos b. Recordemos que tenemos que usar la función .reshape()\r\n",
        "b = np.array([1, 5, 0]).reshape(3,1)\r\n",
        "print(b)"
      ],
      "execution_count": null,
      "outputs": [
        {
          "output_type": "stream",
          "text": [
            "[[1]\n",
            " [5]\n",
            " [0]]\n"
          ],
          "name": "stdout"
        }
      ]
    },
    {
      "cell_type": "code",
      "metadata": {
        "colab": {
          "base_uri": "https://localhost:8080/"
        },
        "id": "ktpA78-0TFhG",
        "outputId": "e59ac4e4-98eb-472e-ff2f-d262fe9e0547"
      },
      "source": [
        "# La solución es:\r\n",
        "x = M_inv @ b \r\n",
        "print(x)"
      ],
      "execution_count": null,
      "outputs": [
        {
          "output_type": "stream",
          "text": [
            "[[-3.]\n",
            " [-4.]\n",
            " [-8.]]\n"
          ],
          "name": "stdout"
        }
      ]
    },
    {
      "cell_type": "markdown",
      "metadata": {
        "id": "rx6Ez2IFTM8-"
      },
      "source": [
        "### Función scipy.linalg.solve()"
      ]
    },
    {
      "cell_type": "code",
      "metadata": {
        "colab": {
          "base_uri": "https://localhost:8080/"
        },
        "id": "auuokTrbTPAJ",
        "outputId": "36590ecf-4043-4a87-8cec-b42bca9e6e58"
      },
      "source": [
        "# Resolviendo el sistema de ecuaciones usando scipy.linalg.solve\r\n",
        "x_sol = la.solve(M, b)\r\n",
        "print(x_sol)"
      ],
      "execution_count": null,
      "outputs": [
        {
          "output_type": "stream",
          "text": [
            "[[-3.]\n",
            " [-4.]\n",
            " [-8.]]\n"
          ],
          "name": "stdout"
        }
      ]
    },
    {
      "cell_type": "markdown",
      "metadata": {
        "id": "1qpI6_GST4ie"
      },
      "source": [
        "## Ejercicio 4"
      ]
    },
    {
      "cell_type": "markdown",
      "metadata": {
        "id": "rTYffb7wUM5c"
      },
      "source": [
        "Dadas las siguientes matrices $B_1, B_2$ y $B_3$\r\n",
        "\r\n",
        "(Ejemplos del artículo de Wikipedia sobre Eigenvalores y Eigenvectores)\r\n",
        "\r\n",
        "\\begin{equation*}\r\n",
        "  B_1\r\n",
        "  =\r\n",
        "  \\begin{bmatrix}\r\n",
        "   2 & 0 & 0 \\\\\r\n",
        "   0 & 3 & 4 \\\\\r\n",
        "   0 & 4 & 9 \\\\\r\n",
        "  \\end{bmatrix}\r\n",
        "\r\n",
        "\\end{equation*}\r\n",
        "\\\r\n",
        "\\begin{equation*}\r\n",
        "  B_2 \r\n",
        "  = \r\n",
        "  \\begin{bmatrix}\r\n",
        "   0 & 1 & 0 \\\\\r\n",
        "   0 & 0 & 1 \\\\\r\n",
        "   1 & 0 & 0 \\\\\r\n",
        "  \\end{bmatrix}\r\n",
        "\\end{equation*}\r\n",
        "\\\r\n",
        "\\begin{equation*}\r\n",
        "  B_3 \r\n",
        "  = \r\n",
        "  \\begin{bmatrix}\r\n",
        "   2 & 0 & 0 & 0 \\\\\r\n",
        "   1 & 2 & 0 & 0 \\\\\r\n",
        "   0 & 1 & 3 & 0 \\\\\r\n",
        "   0 & 0 & 1 & 3 \\\\\r\n",
        "\\end{bmatrix}\r\n",
        "\\\\\r\n",
        "\\end{equation*}\r\n",
        "\r\n",
        "Encuentra los eigenvalores y eigenvectores de cada matriz utilizando la función de scipy.linalg.eig(), y contrasta tus resultados en cada caso con los que se desarrollan en los ejemplos de la Wikipedia."
      ]
    },
    {
      "cell_type": "code",
      "metadata": {
        "colab": {
          "base_uri": "https://localhost:8080/"
        },
        "id": "oIFCmu2GkBBz",
        "outputId": "87599725-3017-42c4-dfbc-5e7c7708906d"
      },
      "source": [
        "# Definimos las matrices B1, B2, B3:\r\n",
        "B1 = np.array([[2,0,0],[0,3,4],[0,4,9]])\r\n",
        "B2 = np.array([[0,1,0],[0,0,1],[1,0,0]])\r\n",
        "B3 = np.array([[2,0,0,0],[1,2,0,0],[0,1,3,0],[0,0,1,3]])\r\n",
        "\r\n",
        "# Aplicamos la biblioteca scipy.linalg.eig()\r\n",
        "eigvals1, eigvecs1 = la.eig(B1)\r\n",
        "print(B1)\r\n",
        "print('Eigenvalores de B1: \\n', eigvals1)\r\n",
        "print('Eigenvectores de B1: \\n', eigvecs1)\r\n",
        "print('\\n')\r\n",
        "\r\n",
        "eigvals2, eigvecs2 = la.eig(B2)\r\n",
        "print('Eigenvalores de B2: \\n', eigvals2)\r\n",
        "print('Eigenvectores de B2: \\n', eigvecs2)\r\n",
        "print('\\n')\r\n",
        "\r\n",
        "eigvals3, eigvecs3 = la.eig(B3)\r\n",
        "print(B3)\r\n",
        "print('Eigenvalores de B3: \\n', eigvals3)\r\n",
        "print('Eigenvectores de B3: \\n', eigvecs3)\r\n",
        "\r\n",
        "print('\\n')"
      ],
      "execution_count": null,
      "outputs": [
        {
          "output_type": "stream",
          "text": [
            "[[2 0 0]\n",
            " [0 3 4]\n",
            " [0 4 9]]\n",
            "Eigenvalores de B1: \n",
            " [11.+0.j  1.+0.j  2.+0.j]\n",
            "Eigenvectores de B1: \n",
            " [[ 0.          0.          1.        ]\n",
            " [ 0.4472136   0.89442719  0.        ]\n",
            " [ 0.89442719 -0.4472136   0.        ]]\n",
            "\n",
            "\n",
            "Eigenvalores de B2: \n",
            " [-0.5+0.8660254j -0.5-0.8660254j  1. +0.j       ]\n",
            "Eigenvectores de B2: \n",
            " [[ 0.57735027+0.j   0.57735027-0.j  -0.57735027+0.j ]\n",
            " [-0.28867513+0.5j -0.28867513-0.5j -0.57735027+0.j ]\n",
            " [-0.28867513-0.5j -0.28867513+0.5j -0.57735027+0.j ]]\n",
            "\n",
            "\n",
            "[[2 0 0 0]\n",
            " [1 2 0 0]\n",
            " [0 1 3 0]\n",
            " [0 0 1 3]]\n",
            "Eigenvalores de B3: \n",
            " [3.+0.j 3.+0.j 2.+0.j 2.+0.j]\n",
            "Eigenvectores de B3: \n",
            " [[ 0.00000000e+00  0.00000000e+00  0.00000000e+00  2.56395025e-16]\n",
            " [ 0.00000000e+00  0.00000000e+00  5.77350269e-01 -5.77350269e-01]\n",
            " [ 0.00000000e+00  6.66133815e-16 -5.77350269e-01  5.77350269e-01]\n",
            " [ 1.00000000e+00 -1.00000000e+00  5.77350269e-01 -5.77350269e-01]]\n",
            "\n",
            "\n"
          ],
          "name": "stdout"
        }
      ]
    },
    {
      "cell_type": "markdown",
      "metadata": {
        "id": "B9UuNN29nYQX"
      },
      "source": [
        "Log eigenvectores presentados con la función son proporcionales a los presentados en wikipedia. Por lo tanto, son correctos pues existen infinitos eigenvalores paralelos o proporcionales a ellos. La función presentada te da los eigenvectores con norma 1, es decir, vectores que forman una base."
      ]
    },
    {
      "cell_type": "markdown",
      "metadata": {
        "id": "ATJV23k8JOfB"
      },
      "source": [
        "## Ejercicio 5"
      ]
    },
    {
      "cell_type": "markdown",
      "metadata": {
        "id": "1LCrv_cuJhGR"
      },
      "source": [
        "Se tienen los siguientes 8 puntos:\r\n",
        "\r\n",
        "$$\\begin{eqnarray*} \r\n",
        "(x,&y) \\\\\r\n",
        "(0.0,& 0.0), \\\\ \r\n",
        "(0.5, &0.47942), \\\\ \r\n",
        "(1.0,& 0.84147), \\\\\r\n",
        "(1.5,& 0.99749), \\\\\r\n",
        "(2.0,& 0.90930), \\\\\r\n",
        "(2.5 ,& 0.59847), \\\\\r\n",
        "(3.0 ,& 0.14112), \\\\\r\n",
        "(3.5 &, -0.35078)\r\n",
        "\\end{eqnarray*}$$\r\n",
        "Encuentre un polinomio interpolante $p(x)$ que pase por los 8 puntos.\r\n",
        "\r\n",
        "Sobreponga la función $y=\\sin(x)$ y contrástela con el polinomio $p(x)$."
      ]
    },
    {
      "cell_type": "code",
      "metadata": {
        "id": "ke5xyOO0l_SD",
        "colab": {
          "base_uri": "https://localhost:8080/"
        },
        "outputId": "e6ede60d-6e60-4e99-84f3-c1bdef8cd5b8"
      },
      "source": [
        "# Matriz de Vandermonde X\r\n",
        "x = np.array([0.0,0.5,1.0,1.5,2.0,2.5,3.0,3.5])\r\n",
        "X = np.vander(x,increasing=True)\r\n",
        "\r\n",
        "# El vector y\r\n",
        "y = np.array([0.0,0.47942,0.84147,0.99749,0.90930,0.59847,0.14112,-0.35078]).reshape(8,1)\r\n",
        "\r\n",
        "# Resolvemos la ecuación Xa = y, para los coeficientes desconocidos a\r\n",
        "# Usamos la función scipy.linalg.solve()\r\n",
        "a = la.solve(X,y)\r\n",
        "print(a)"
      ],
      "execution_count": null,
      "outputs": [
        {
          "output_type": "stream",
          "text": [
            "[[ 0.00000000e+00]\n",
            " [ 1.00067181e+00]\n",
            " [-3.70788889e-03]\n",
            " [-1.58867889e-01]\n",
            " [-8.30222222e-03]\n",
            " [ 1.31964444e-02]\n",
            " [-1.54488889e-03]\n",
            " [ 2.46349206e-05]]\n"
          ],
          "name": "stdout"
        }
      ]
    },
    {
      "cell_type": "code",
      "metadata": {
        "colab": {
          "base_uri": "https://localhost:8080/",
          "height": 295
        },
        "id": "wR5wfVlSPpIy",
        "outputId": "8a5d1418-5faf-4932-96c3-b2b56285f029"
      },
      "source": [
        "# Graficamos el polinomio interpolante y los puntos interpolados\r\n",
        "# Los puntos interpolados en rojo ('r.')\r\n",
        "xs = np.linspace(-2,6,200)\r\n",
        "ys = sum([a[k]*xs**k for k in range(0,8)])\r\n",
        "ysin = np.sin(xs)\r\n",
        "#plt.plot(x, y, 'r')\r\n",
        "plt.plot(x,y,'r.',xs,ys)\r\n",
        "plt.plot(xs, ysin, 'green')\r\n",
        "plt.grid()\r\n",
        "plt.title('Polinomio interpolante p(x)')\r\n",
        "plt.xlabel('x')\r\n",
        "plt.ylabel('y')\r\n",
        "plt.show()"
      ],
      "execution_count": null,
      "outputs": [
        {
          "output_type": "display_data",
          "data": {
            "image/png": "[encoded data removed]",
            "text/plain": [
              "<Figure size 432x288 with 1 Axes>"
            ]
          },
          "metadata": {
            "tags": [],
            "needs_background": "light"
          }
        }
      ]
    },
    {
      "cell_type": "markdown",
      "metadata": {
        "id": "7viwubN3UlcZ"
      },
      "source": [
        "## Ejercicio 6"
      ]
    },
    {
      "cell_type": "markdown",
      "metadata": {
        "id": "m6w7KqwxUsFS"
      },
      "source": [
        "Regrese a su modelo de análisis de series de tiempo. Haga una descomposición de su serie de tiempo de las temperaturas (Tmax y Tmin), y realice una regresión lineal sobre la serie de Tendencia de Temp $(T = a_0 + a_1 t)$. Encuentre si la pendiente es positiva o negativa de la tendencia (signo de $a_1$), es decir si las Temperaturas (Tmax, Tmin) están subiendo o bajando en el periodo analizado."
      ]
    },
    {
      "cell_type": "markdown",
      "metadata": {
        "id": "VHrAMec5UzeC"
      },
      "source": [
        ""
      ]
    },
    {
      "cell_type": "markdown",
      "metadata": {
        "id": "v0ftYGYJWsVv"
      },
      "source": [
        "## Regresión Lineal"
      ]
    },
    {
      "cell_type": "code",
      "metadata": {
        "id": "b9edl0D-tbZH"
      },
      "source": [
        "# Definimos una función para convertir datetime64 (yyyy-mm-dd) a float (yyyy.zzzz)\r\n",
        "\r\n",
        "from datetime import datetime as dt\r\n",
        "import time\r\n",
        "\r\n",
        "def toYearFraction(date):\r\n",
        "    def sinceEpoch(date): # returns seconds since epoch\r\n",
        "        return time.mktime(date.timetuple())\r\n",
        "    s = sinceEpoch\r\n",
        "\r\n",
        "    year = date.year\r\n",
        "    startOfThisYear = dt(year=year, month=1, day=1)\r\n",
        "    startOfNextYear = dt(year=year+1, month=1, day=1)\r\n",
        "\r\n",
        "    yearElapsed = s(date) - s(startOfThisYear)\r\n",
        "    yearDuration = s(startOfNextYear) - s(startOfThisYear)\r\n",
        "    fraction = yearElapsed/yearDuration\r\n",
        "\r\n",
        "    return date.year + fraction"
      ],
      "execution_count": null,
      "outputs": []
    },
    {
      "cell_type": "code",
      "metadata": {
        "colab": {
          "base_uri": "https://localhost:8080/"
        },
        "id": "Y2FsnB17Wuv6",
        "outputId": "ae75a435-15e9-42a2-a2a0-8d71deb20d4d"
      },
      "source": [
        "# Guardamos la tendencia en una Serie\r\n",
        "resTmaxTrend = resTmax.trend\r\n",
        "\r\n",
        "# Eliminamos valores nulos\r\n",
        "resTmaxTrend.dropna(inplace=True)\r\n",
        "\r\n",
        "# Convertimos la Serie en un Dataframe\r\n",
        "Trend_Tmax=pd.DataFrame({'Fecha':resTmaxTrend.index, 'Tmax':resTmaxTrend.values})\r\n",
        "\r\n",
        "# Convertimos de datetime64 (yyyy-mm-dd) a float (yyyy.zzzz)\r\n",
        "Trend_Tmax['Fecha']=Trend_Tmax['Fecha'].apply(toYearFraction)\r\n",
        "print(Trend_Tmax)\r\n",
        "\r\n",
        "# Recuento de filas N\r\n",
        "N = Trend_Tmax.shape[0]\r\n",
        "print(N)\r\n",
        "\r\n",
        "# Guardamos los valores de Fecha en un vector (array) x:\r\n",
        "x = np.array(Trend_Tmax['Fecha'])\r\n",
        "\r\n",
        "# Guardamos los valores de Tmax en el vector (array) y:\r\n",
        "y = np.array(Trend_Tmax['Tmax'])\r\n"
      ],
      "execution_count": null,
      "outputs": [
        {
          "output_type": "stream",
          "text": [
            "            Fecha       Tmax\n",
            "0     2000.497268  32.484932\n",
            "1     2000.500000  32.498630\n",
            "2     2000.502732  32.519178\n",
            "3     2000.505464  32.531507\n",
            "4     2000.508197  32.536986\n",
            "...           ...        ...\n",
            "5475  2015.487671  32.765753\n",
            "5476  2015.490411  32.760274\n",
            "5477  2015.493151  32.750685\n",
            "5478  2015.495890  32.742466\n",
            "5479  2015.498630  32.747945\n",
            "\n",
            "[5480 rows x 2 columns]\n",
            "5480\n",
            "(5480,)\n"
          ],
          "name": "stdout"
        }
      ]
    },
    {
      "cell_type": "code",
      "metadata": {
        "colab": {
          "base_uri": "https://localhost:8080/"
        },
        "id": "zR4qE2uXvRoz",
        "outputId": "0a95218f-969b-47b3-b183-9c85b4db86a1"
      },
      "source": [
        "# Creamos la matriz X, con 1's en la primera columna y los puntos x_k en la segunda.\r\n",
        "X = np.column_stack([np.ones(N),x])\r\n",
        "print('Shape:', X.shape)\r\n",
        "# Imprimimos los primeros 5 renglones para verificar\r\n",
        "print(X[:5,:])"
      ],
      "execution_count": null,
      "outputs": [
        {
          "output_type": "stream",
          "text": [
            "Shape: (5480, 2)\n",
            "[[1.00000000e+00 2.00049727e+03]\n",
            " [1.00000000e+00 2.00050000e+03]\n",
            " [1.00000000e+00 2.00050273e+03]\n",
            " [1.00000000e+00 2.00050546e+03]\n",
            " [1.00000000e+00 2.00050820e+03]]\n"
          ],
          "name": "stdout"
        }
      ]
    },
    {
      "cell_type": "code",
      "metadata": {
        "colab": {
          "base_uri": "https://localhost:8080/"
        },
        "id": "jpb5A2NixHMt",
        "outputId": "f40d50c3-7a32-480b-b8bc-83efd9bb73ed"
      },
      "source": [
        "# Usamos la función scipy.linalg.solve() para resolver la ecuación X.T@X@a = X.T@y respecto a 'a'\r\n",
        "a = la.solve(X.T @ X, X.T @ y)\r\n",
        "print(a)"
      ],
      "execution_count": null,
      "outputs": [
        {
          "output_type": "stream",
          "text": [
            "[-1.19964238e+02  7.60217750e-02]\n"
          ],
          "name": "stdout"
        }
      ]
    },
    {
      "cell_type": "code",
      "metadata": {
        "colab": {
          "base_uri": "https://localhost:8080/",
          "height": 301
        },
        "id": "Aj_ABE3ExYnS",
        "outputId": "5bf69f10-66fd-483e-a2b1-0f4892e09b0f"
      },
      "source": [
        "# Graficamos el ajuste con esos 2 coeficientes de la regresión y = a_0 + a_1 x \r\n",
        "xs = np.linspace(2000,2015,10)\r\n",
        "ys = a[0] + a[1]*xs\r\n",
        "plt.plot(xs,ys,'r',linewidth=4)\r\n",
        "plt.scatter(x,y);\r\n",
        "plt.grid()\r\n",
        "plt.title('Ajuste mediante Regresión Lineal de los datos')\r\n",
        "plt.xlabel('x')\r\n",
        "plt.ylabel('y')\r\n",
        "plt.show()"
      ],
      "execution_count": null,
      "outputs": [
        {
          "output_type": "display_data",
          "data": {
            "image/png": "[encoded data removed]",
            "text/plain": [
              "<Figure size 432x288 with 1 Axes>"
            ]
          },
          "metadata": {
            "tags": [],
            "needs_background": "light"
          }
        }
      ]
    },
    {
      "cell_type": "code",
      "metadata": {
        "colab": {
          "base_uri": "https://localhost:8080/"
        },
        "id": "vrsI5UsRxtT9",
        "outputId": "a6486df0-8322-4ca7-9972-926e27a83b49"
      },
      "source": [
        "# Guardamos la tendencia en una Serie\r\n",
        "resTminTrend = resTmin.trend\r\n",
        "\r\n",
        "# Eliminamos valores nulos\r\n",
        "resTminTrend.dropna(inplace=True)\r\n",
        "\r\n",
        "# Convertimos la Serie en un Dataframe\r\n",
        "Trend_Tmin=pd.DataFrame({'Fecha':resTminTrend.index, 'Tmin':resTminTrend.values})\r\n",
        "\r\n",
        "# Convertimos de datetime64 (yyyy-mm-dd) a float (yyyy.zzzz)\r\n",
        "Trend_Tmin['Fecha']=Trend_Tmin['Fecha'].apply(toYearFraction)\r\n",
        "print(Trend_Tmin)\r\n",
        "\r\n",
        "# Recuento de filas N\r\n",
        "N = Trend_Tmin.shape[0]\r\n",
        "print(N)\r\n",
        "\r\n",
        "# Guardamos los valores de Fecha en un vector (array) x:\r\n",
        "x = np.array(Trend_Tmin['Fecha'])\r\n",
        "\r\n",
        "# Guardamos los valores de Tmax en el vector (array) y:\r\n",
        "y = np.array(Trend_Tmin['Tmin'])\r\n"
      ],
      "execution_count": null,
      "outputs": [
        {
          "output_type": "stream",
          "text": [
            "            Fecha       Tmin\n",
            "0     2000.497268  18.298630\n",
            "1     2000.500000  18.302740\n",
            "2     2000.502732  18.319178\n",
            "3     2000.505464  18.332877\n",
            "4     2000.508197  18.350685\n",
            "...           ...        ...\n",
            "5475  2015.487671  18.787671\n",
            "5476  2015.490411  18.787671\n",
            "5477  2015.493151  18.790411\n",
            "5478  2015.495890  18.790411\n",
            "5479  2015.498630  18.784932\n",
            "\n",
            "[5480 rows x 2 columns]\n",
            "5480\n"
          ],
          "name": "stdout"
        }
      ]
    },
    {
      "cell_type": "code",
      "metadata": {
        "colab": {
          "base_uri": "https://localhost:8080/"
        },
        "id": "FQIZveBSxtT-",
        "outputId": "9bfd3c7c-8667-415e-89f1-da96ff30886c"
      },
      "source": [
        "# Creamos la matriz X, con 1's en la primera columna y los puntos x_k en la segunda.\r\n",
        "X = np.column_stack([np.ones(N),x])\r\n",
        "print('Shape:', X.shape)\r\n",
        "# Imprimimos los primeros 5 renglones para verificar\r\n",
        "print(X[:5,:])"
      ],
      "execution_count": null,
      "outputs": [
        {
          "output_type": "stream",
          "text": [
            "Shape: (5480, 2)\n",
            "[[1.00000000e+00 2.00049727e+03]\n",
            " [1.00000000e+00 2.00050000e+03]\n",
            " [1.00000000e+00 2.00050273e+03]\n",
            " [1.00000000e+00 2.00050546e+03]\n",
            " [1.00000000e+00 2.00050820e+03]]\n"
          ],
          "name": "stdout"
        }
      ]
    },
    {
      "cell_type": "code",
      "metadata": {
        "colab": {
          "base_uri": "https://localhost:8080/"
        },
        "id": "v6qDJ8mdxtT-",
        "outputId": "6105c682-d7c8-4f7d-f005-d340bfedb854"
      },
      "source": [
        "# Usamos la función scipy.linalg.solve() para resolver la ecuación X.T@X@a = X.T@y respecto a 'a'\r\n",
        "a = la.solve(X.T @ X, X.T @ y)\r\n",
        "print(a)"
      ],
      "execution_count": null,
      "outputs": [
        {
          "output_type": "stream",
          "text": [
            "[-8.76615913e+01  5.28561488e-02]\n"
          ],
          "name": "stdout"
        }
      ]
    },
    {
      "cell_type": "code",
      "metadata": {
        "colab": {
          "base_uri": "https://localhost:8080/",
          "height": 301
        },
        "id": "YV53LR71xtT-",
        "outputId": "b669e2ca-857f-4604-ce63-6bbb7cc42962"
      },
      "source": [
        "# Graficamos el ajuste con esos 2 coeficientes de la regresión y = a_0 + a_1 x \r\n",
        "xs = np.linspace(2000,2015,10)\r\n",
        "ys = a[0] + a[1]*xs\r\n",
        "plt.plot(xs,ys,'r',linewidth=4)\r\n",
        "plt.scatter(x,y);\r\n",
        "plt.grid()\r\n",
        "plt.title('Ajuste mediante Regresión Lineal de los datos')\r\n",
        "plt.xlabel('x')\r\n",
        "plt.ylabel('y')\r\n",
        "plt.show()"
      ],
      "execution_count": null,
      "outputs": [
        {
          "output_type": "display_data",
          "data": {
            "image/png": "[encoded data removed]",
            "text/plain": [
              "<Figure size 432x288 with 1 Axes>"
            ]
          },
          "metadata": {
            "tags": [],
            "needs_background": "light"
          }
        }
      ]
    }
  ]
}